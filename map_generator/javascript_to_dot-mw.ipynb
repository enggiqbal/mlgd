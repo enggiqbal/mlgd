{
 "cells": [
  {
   "cell_type": "code",
   "execution_count": 1,
   "metadata": {},
   "outputs": [],
   "source": [
    "from tqdm.notebook import tqdm\n",
    "import matplotlib.pyplot as plt\n",
    "from matplotlib import collections as mc\n",
    "plt.style.use('ggplot')\n",
    "\n",
    "import networkx as nx\n",
    "from networkx.drawing.nx_agraph import write_dot\n",
    "import pygraphviz\n",
    "\n",
    "import json\n",
    "import re\n",
    "from pathlib import Path\n",
    "from natsort import natsorted\n",
    "from glob import glob\n",
    "\n",
    "def edges2graph(lines, i2k=None, label2i=None):\n",
    "    pattern = re.compile('\"(.+)\" -- \"(.+)\"')\n",
    "    nodes = set()\n",
    "    edges = set()\n",
    "    for i,line in enumerate(lines):\n",
    "        if len(line.strip()) > 0:\n",
    "            edge = re.findall(pattern, line)[0]\n",
    "            source, target = edge\n",
    "            nodes.update([source, target])\n",
    "            edges.add( (source, target) )\n",
    "    \n",
    "    if label2i is None:\n",
    "        label2i = {k:i for i,k in enumerate(nodes)}\n",
    "        i2k = list(range(len(nodes)))\n",
    "    g = nx.Graph()\n",
    "    \n",
    "    nodes = [dict(id=label2i[k], label=k) for i,k in enumerate(nodes)]\n",
    "    ids = [n['id'] for n in nodes]\n",
    "    g.add_nodes_from( zip(ids, nodes) )\n",
    "    \n",
    "    edges = [(i2k[label2i[e[0]]],i2k[label2i[e[1]]]) for e in edges]\n",
    "    g.add_edges_from(edges)\n",
    "    return g, i2k, label2i\n",
    "\n",
    "\n",
    "def read_graph(levels_dir):\n",
    "    fns = natsorted(glob(f'{levels_dir}/*.txt'))\n",
    "    level = len(fns)\n",
    "    with open(fns[-1]) as f:\n",
    "        g, i2k, label2i = edges2graph(f.readlines())\n",
    "        for n in g.nodes:\n",
    "            g.nodes[n]['level'] = level\n",
    "\n",
    "        for e in g.edges:\n",
    "            g.edges[e]['level'] = level\n",
    "\n",
    "    for i,fn in enumerate(fns[:-1][::-1]):\n",
    "        level -= 1\n",
    "        with open(fn) as f:\n",
    "            subgraph,_,_ = edges2graph(f.readlines(), i2k, label2i)\n",
    "            for n in subgraph.nodes:\n",
    "                g.nodes[n]['level'] = level\n",
    "            for e in subgraph.edges:\n",
    "                g.edges[e]['level'] = level\n",
    "    return g\n",
    "    \n",
    "    \n",
    "    \n",
    "def read_js(fn_in, center=True, scale=1):\n",
    "    data_in = {}\n",
    "    with open(fn_in) as f0:\n",
    "        for line in f0:\n",
    "            if line.startswith('//'):\n",
    "                continue\n",
    "            var_name, value = line.split(' = ')\n",
    "            value = value.strip()\n",
    "#             value = re.sub(r'(\\d+):', r'\"\\1\":', value)\n",
    "            \n",
    "            try:\n",
    "                value = json.loads(value)\n",
    "            except json.JSONDecodeError as e:\n",
    "                print(e)\n",
    "                print(repr(value[e.colno-5:e.colno+20]))\n",
    "                return e\n",
    "            data_in[var_name] = value\n",
    "\n",
    "    print(data_in.keys())\n",
    "\n",
    "    ## centralize data\n",
    "    if center:\n",
    "        cx = sum(data_in['crd_x'].values()) / len(data_in['crd_x'])\n",
    "        cy = sum(data_in['crd_y'].values()) / len(data_in['crd_y'])\n",
    "        for k in data_in['crd_x']:\n",
    "            data_in['crd_x'][k] -= cx\n",
    "            data_in['crd_y'][k] -= cy\n",
    "    if scale is not None:\n",
    "        for k in data_in['crd_x']:\n",
    "            data_in['crd_x'][k] *= scale\n",
    "            data_in['crd_y'][k] *= scale\n",
    "            \n",
    "    return data_in\n",
    "\n",
    "\n",
    "def draw(g, pos, edges=True, labels=False, figsize=[8,8], s=2, lw=0.5):\n",
    "    xy = np.array(list([pos[k] for k in g.nodes]))\n",
    "    fig = plt.figure(figsize=figsize)\n",
    "    ax = fig.subplots()\n",
    "    \n",
    "    ## nodes\n",
    "    ax.scatter(xy[:,0], xy[:,1], s=s, zorder=3)\n",
    "    \n",
    "    ## edges\n",
    "    if edges:\n",
    "        lines = [[pos[i], pos[j]] for (i,j) in g.edges]\n",
    "        lc = mc.LineCollection(lines, colors='grey', linewidths=lw)\n",
    "        ax.add_collection(lc)\n",
    "    ax.autoscale()\n",
    "    ax.margins(0.1)\n",
    "    plt.axis('equal')\n",
    "\n",
    "    if labels:\n",
    "        for i in g.nodes:\n",
    "            plt.text(pos[i][0], pos[i][1], g.nodes[i]['label'])\n",
    "    return ax\n",
    "\n",
    "\n",
    "def update_coord(g, data):\n",
    "    crd_x = data['crd_x']\n",
    "    crd_y = data['crd_y']\n",
    "    label_to_id = data.get('label_to_id', None)\n",
    "    org_to_alphanum = data.get('org_to_alphanum', None)\n",
    "    for n in g.nodes:\n",
    "        node = g.nodes[n]\n",
    "        full_label = node['label']\n",
    "        if org_to_alphanum is None:\n",
    "            short_label = full_label\n",
    "        else:\n",
    "            short_label = org_to_alphanum[full_label]\n",
    "        \n",
    "        node_id = str(label_to_id[short_label])\n",
    "        \n",
    "        x,y = crd_x[node_id], crd_y[node_id]\n",
    "        node['pos'] = f'{x},{y}'\n",
    "        node['weight'] = 0\n",
    "    return g\n",
    "\n",
    "\n",
    "\n"
   ]
  },
  {
   "cell_type": "code",
   "execution_count": 2,
   "metadata": {},
   "outputs": [],
   "source": [
    "## For BT's file format\n",
    "\n",
    "def read_mtx(dir_in):\n",
    "    fn_label = glob(f'{dir_in}/*.full.labels')[0]\n",
    "    fn_coord = glob(f'{dir_in}/*.txt')[0]\n",
    "    with open(fn_label) as fl, open(fn_coord) as fc:\n",
    "        labels = [l.strip() for l in fl]\n",
    "        coords = [[float(x) for x in l.split()[:2]] for l in fc]\n",
    "    return dict(zip(labels, coords))\n",
    "    \n",
    "def update_coord_mtx(g, data):\n",
    "    for n in tqdm(g.nodes):\n",
    "        node = g.nodes[n]\n",
    "        label = node['label']\n",
    "        x,y = data[label.replace('\"', '')]\n",
    "        node['pos'] = f'{x},{y}'\n",
    "        node['weight'] = 0\n",
    "    return g\n",
    "\n",
    "def centralize(data):\n",
    "    c = np.array(list(data.values())).mean(0)\n",
    "    for k in data:\n",
    "        data[k] = (np.array(data[k]) - c).tolist()\n",
    "    return data\n",
    "    \n",
    "def scale(data, s):\n",
    "    for k in data:\n",
    "        data[k] = (np.array(data[k]) * s).tolist()\n",
    "    return data"
   ]
  },
  {
   "cell_type": "code",
   "execution_count": 3,
   "metadata": {},
   "outputs": [
    {
     "name": "stdout",
     "output_type": "stream",
     "text": [
      "dict_keys(['org_to_alphanum', 'alphanum_to_org', 'my_edges', 'label_to_id', 'id_to_label', 'nodes_to_levels', 'nodes_to_files', 'crd_x', 'crd_y'])\n",
      "(0, {'id': 0, 'label': 'diagnosis', 'level': 4, 'pos': '1067.9719853700947,6649.48918903363', 'weight': 0})\n"
     ]
    },
    {
     "data": {
      "text/plain": [
       "<matplotlib.axes._subplots.AxesSubplot at 0x11147c7c0>"
      ]
     },
     "execution_count": 3,
     "metadata": {},
     "output_type": "execute_result"
    },
    {
     "data": {
      "image/png": "[encoded data removed]",
      "text/plain": [
       "<Figure size 576x576 with 1 Axes>"
      ]
     },
     "metadata": {},
     "output_type": "display_data"
    }
   ],
   "source": [
    "f = 'topics-DELG'\n",
    "fn_in = './in/topics-DELG.json'\n",
    "graph_dir = '../../zmlt/data/txt/topics_faryad_8level/'\n",
    "scale = 1\n",
    "g = read_graph(graph_dir)\n",
    "data_in = read_js(fn_in, scale=scale)\n",
    "G = update_coord(g, data_in)\n",
    "\n",
    "# f = 'lastfm-DELG'\n",
    "# fn_in = './in/lastfm-DELG.json'\n",
    "# graph_dir = '../../zmlt/data/txt/lastfm/'\n",
    "# scale = 1\n",
    "\n",
    "# f = 'tol-DELG'\n",
    "# fn_in = './in/tol-DELG.json'\n",
    "# graph_dir = '../../zmlt/data/txt/tol_graphs_8level/'\n",
    "# scale = 1\n",
    "\n",
    "# f = 'topics-CG'\n",
    "# fn_in = './in/topics-CG.json'\n",
    "# graph_dir = '../../zmlt/data/txt/topics_faryad_8level/'\n",
    "# scale = 200\n",
    "\n",
    "# f = 'lastfm-CG'\n",
    "# fn_in = './in/lastfm-CG.json'\n",
    "# graph_dir = '../../zmlt/data/txt/lastfm/'\n",
    "# scale = 200\n",
    "\n",
    "# f = 'topicslarge-BT'\n",
    "# fn_in = './in/topicslarge-BT.json'\n",
    "# graph_dir = '../../zmlt/data/txt/topics_large/'\n",
    "# scale = 10\n",
    "\n",
    "# f = 'tol-CG'\n",
    "# scale = 200\n",
    "# graph_dir = '../../zmlt/data/txt/tol_graphs_8level/'\n",
    "# g = read_graph(graph_dir)\n",
    "# fn_in = './in/tol-CG.json'\n",
    "# data_in = read_js(fn_in, scale=scale)\n",
    "# G = update_coord(g, data_in)\n",
    "\n",
    "\n",
    "\n",
    "# f = 'lastfm-BT'\n",
    "# graph_dir = '../../zmlt/data/txt/lastfm/'\n",
    "# coord_dir = './in/BT/lastfm/'\n",
    "# g = read_graph(graph_dir)\n",
    "# data_in = read_mtx(coord_dir)\n",
    "# data_in = scale(centralize(data_in), 10)\n",
    "# G = update_coord_mtx(g, data_in)\n",
    "\n",
    "# f = 'topics-BT'\n",
    "# graph_dir = '../../zmlt/data/txt/topics_faryad_8level/'\n",
    "# coord_dir = './in/BT/topics/'\n",
    "# g = read_graph(graph_dir)\n",
    "# data_in = read_mtx(coord_dir)\n",
    "# data_in = scale(centralize(data_in), 10)\n",
    "# G = update_coord_mtx(g, data_in)\n",
    "\n",
    "# f = 'tol-BT'\n",
    "# graph_dir = '../../zmlt/data/txt/tol_graphs_8level/'\n",
    "# coord_dir = './in/BT/tol/'\n",
    "# g = read_graph(graph_dir)\n",
    "# data_in = read_mtx(coord_dir)\n",
    "# data_in = scale(centralize(data_in), 20)\n",
    "# G = update_coord_mtx(g, data_in)\n",
    "\n",
    "# f = 'mathlarge-BT'\n",
    "# graph_dir = '../../zmlt/data/txt/math_genealogy_42/'\n",
    "# coord_dir = './in/BT/mathlarge/'\n",
    "# g = read_graph(graph_dir)\n",
    "# data_in = read_mtx(coord_dir)\n",
    "# data_in = scale(centralize(data_in), 20)\n",
    "# G = update_coord_mtx(g, data_in)\n",
    "\n",
    "\n",
    "for n in G.nodes(data=True):\n",
    "    print(n)\n",
    "    break\n",
    "    \n",
    "pos = {n:[float(x) for x in G.nodes[n]['pos'].split(',')] for n in G.nodes}\n",
    "draw(G, pos, s=0.1)"
   ]
  },
  {
   "cell_type": "markdown",
   "metadata": {},
   "source": [
    "## generate map"
   ]
  },
  {
   "cell_type": "code",
   "execution_count": 12,
   "metadata": {},
   "outputs": [
    {
     "data": {
      "text/plain": [
       "'topics-DELG'"
      ]
     },
     "execution_count": 12,
     "metadata": {},
     "output_type": "execute_result"
    }
   ],
   "source": [
    "f ## this is going to be the output directory"
   ]
  },
  {
   "cell_type": "code",
   "execution_count": 8,
   "metadata": {},
   "outputs": [
    {
     "name": "stdout",
     "output_type": "stream",
     "text": [
      "mkdir: topics-DELG: File exists\n",
      "mkdir: topics-DELG/layers: File exists\n"
     ]
    }
   ],
   "source": [
    "!mkdir {f}\n",
    "!mkdir {f}/layers"
   ]
  },
  {
   "cell_type": "code",
   "execution_count": 9,
   "metadata": {},
   "outputs": [
    {
     "data": {
      "application/vnd.jupyter.widget-view+json": {
       "model_id": "baec744d19b5439e9f1896778e0082c3",
       "version_major": 2,
       "version_minor": 0
      },
      "text/plain": [
       "  0%|          | 0/8 [00:00<?, ?it/s]"
      ]
     },
     "metadata": {},
     "output_type": "display_data"
    }
   ],
   "source": [
    "## write sub trees in the hierarchy\n",
    "levels = sorted(set([ G.nodes[i]['level'] for i in G.nodes]))\n",
    "for l in tqdm(levels):\n",
    "    n = [i for i in G.nodes if G.nodes[i]['level'] <= l]\n",
    "    sub = G.subgraph(n)\n",
    "    write_dot(sub, f'{f}/layers/graph-{l}.dot')"
   ]
  },
  {
   "cell_type": "code",
   "execution_count": 10,
   "metadata": {},
   "outputs": [],
   "source": [
    "## read the original underlying graph (not just trees)\n",
    "\n",
    "import pygraphviz as pgv\n",
    "if 'topics' in f and 'large' not in f:\n",
    "    fn_graph = '../data/datasets/topics/orginal/Topics_Graph_Connected.dot'\n",
    "    original = nx.Graph(pgv.AGraph(fn_graph))\n",
    "        \n",
    "elif 'lastfm' in f:\n",
    "    fn_graph = '../data/datasets/lastfm/dot/lastfmw_original.dot'\n",
    "    original = nx.Graph(pgv.AGraph(fn_graph))\n",
    "    for n in original.nodes:\n",
    "        original.nodes[n]['label'] = original.nodes[n]['label'].replace('\\\\n', ' ')\n",
    "            \n",
    "elif 'topicslarge' in f:\n",
    "    ## TODO load original graph instead of trees\n",
    "    original = G\n",
    "elif 'mathlarge' in f:\n",
    "    ## TODO load original graph instead of trees\n",
    "    original = G   \n",
    "elif 'tol' in f:\n",
    "    original = G    \n"
   ]
  },
  {
   "cell_type": "code",
   "execution_count": null,
   "metadata": {},
   "outputs": [],
   "source": [
    "# query = 'inversion'\n",
    "\n",
    "# for s,t in original.edges:\n",
    "#     l1, l2 = original.nodes[s]['label'], original.nodes[t]['label']\n",
    "#     if query in l1 or query in l2:\n",
    "#         print(l1,'----', l2)"
   ]
  },
  {
   "cell_type": "code",
   "execution_count": 11,
   "metadata": {},
   "outputs": [],
   "source": [
    "o2label = {o:original.nodes[o]['label'] for o in original.nodes}\n",
    "label2id = {G.nodes[i]['label']:i for i in G.nodes}\n",
    "\n",
    "# print(set(o2label.values()) - set(label2id.keys()))\n",
    "# print(set(label2id.keys()) - set(o2label.values()))\n",
    "\n",
    "o2id = {o: label2id[o2label[o]] for o in original.nodes if o2label[o] in label2id}\n",
    "# o2id\n",
    "\n",
    "\n",
    "G0 = G.copy()\n",
    "for n0,n1 in original.edges:\n",
    "    if n0 in o2id and n1 in o2id:\n",
    "        n0,n1 = o2id[n0], o2id[n1]\n",
    "        if (n0,n1) not in G.edges:\n",
    "            G0.add_edge(n0, n1)"
   ]
  },
  {
   "cell_type": "code",
   "execution_count": 13,
   "metadata": {},
   "outputs": [
    {
     "name": "stdout",
     "output_type": "stream",
     "text": [
      "topics-DELG\n"
     ]
    }
   ],
   "source": [
    "write_dot(G0, \"graph.dot\")\n",
    "write_dot(G, \"tree.dot\")\n",
    "\n",
    "print(f)\n",
    "!./mapgenerator.sh tree.dot\n",
    "!mv out2 out3 map.svg graph.dot tree.dot {f}/"
   ]
  },
  {
   "cell_type": "code",
   "execution_count": 14,
   "metadata": {},
   "outputs": [],
   "source": [
    "# from IPython.display import SVG, display\n",
    "\n",
    "# SVG(filename = f'{f}/map.svg', )"
   ]
  },
  {
   "cell_type": "markdown",
   "metadata": {},
   "source": [
    "## map (.svg) => Geojson"
   ]
  },
  {
   "cell_type": "code",
   "execution_count": 16,
   "metadata": {},
   "outputs": [
    {
     "name": "stdout",
     "output_type": "stream",
     "text": [
      "./topics-DELG\n",
      "../visualization_system/geojson/topics-DELG\n",
      "[warning] ../visualization_system/geojson/topics-DELG exists, may replace files there\n"
     ]
    }
   ],
   "source": [
    "dir_in = f'./{f}'\n",
    "dir_out = f'../visualization_system/geojson/{f}'\n",
    "print(dir_in)\n",
    "print(dir_out)\n",
    "if not Path(dir_out).exists():\n",
    "    !mkdir {dir_out}\n",
    "else:\n",
    "    print(f'[warning] {dir_out} exists, may replace files there')\n",
    "    \n"
   ]
  },
  {
   "cell_type": "code",
   "execution_count": 18,
   "metadata": {},
   "outputs": [
    {
     "name": "stdout",
     "output_type": "stream",
     "text": [
      "['./topics-DELG/layers/graph-1.dot', './topics-DELG/layers/graph-2.dot', './topics-DELG/layers/graph-3.dot', './topics-DELG/layers/graph-4.dot', './topics-DELG/layers/graph-5.dot', './topics-DELG/layers/graph-6.dot', './topics-DELG/layers/graph-7.dot', './topics-DELG/layers/graph-8.dot']\n",
      "graph edges: 24710\n",
      "levels: 8\n",
      "polygons: 104 polylines: 0 nodes: 5001\n",
      "CPU times: user 494 ms, sys: 159 ms, total: 653 ms\n",
      "Wall time: 30.2 s\n"
     ]
    }
   ],
   "source": [
    "%%time\n",
    "!python ../geojson_generator/svg_to_geojson-mw.py {dir_in} {dir_out}"
   ]
  }
 ],
 "metadata": {
  "kernelspec": {
   "display_name": "Python 3 (ipykernel)",
   "language": "python",
   "name": "python3"
  },
  "language_info": {
   "codemirror_mode": {
    "name": "ipython",
    "version": 3
   },
   "file_extension": ".py",
   "mimetype": "text/x-python",
   "name": "python",
   "nbconvert_exporter": "python",
   "pygments_lexer": "ipython3",
   "version": "3.8.2"
  }
 },
 "nbformat": 4,
 "nbformat_minor": 2
}
