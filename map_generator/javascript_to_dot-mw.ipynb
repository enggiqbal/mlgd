{
 "cells": [
  {
   "cell_type": "code",
   "execution_count": 1,
   "metadata": {},
   "outputs": [],
   "source": [
    "from tqdm.notebook import tqdm\n",
    "import matplotlib.pyplot as plt\n",
    "plt.style.use('ggplot')\n",
    "\n",
    "import networkx as nx\n",
    "from networkx.drawing.nx_agraph import write_dot\n",
    "import pygraphviz\n",
    "\n",
    "import json\n",
    "import re\n",
    "from pathlib import Path\n",
    "from natsort import natsorted\n",
    "from glob import glob"
   ]
  },
  {
   "cell_type": "code",
   "execution_count": 146,
   "metadata": {},
   "outputs": [],
   "source": [
    "def edges2graph(lines, i2k=None, label2i=None):\n",
    "    pattern = re.compile('\"(.+)\" -- \"(.+)\"')\n",
    "    nodes = set()\n",
    "    edges = set()\n",
    "    for i,line in enumerate(lines):\n",
    "        if len(line.strip()) > 0:\n",
    "            edge = re.findall(pattern, line)[0]\n",
    "            source, target = edge\n",
    "            nodes.update([source, target])\n",
    "            edges.add( (source, target) )\n",
    "    \n",
    "    if label2i is None:\n",
    "        label2i = {k:i for i,k in enumerate(nodes)}\n",
    "        i2k = list(range(len(nodes)))\n",
    "    g = nx.Graph()\n",
    "    \n",
    "    nodes = [dict(id=label2i[k], label=k) for i,k in enumerate(nodes)]\n",
    "    ids = [n['id'] for n in nodes]\n",
    "    g.add_nodes_from( zip(ids, nodes) )\n",
    "    \n",
    "    edges = [(i2k[label2i[e[0]]],i2k[label2i[e[1]]]) for e in edges]\n",
    "    g.add_edges_from(edges)\n",
    "    return g, i2k, label2i\n",
    "\n",
    "\n",
    "def read_graph(levels_dir):\n",
    "    fns = natsorted(glob(f'{levels_dir}/*.txt'))\n",
    "    level = len(fns)\n",
    "    with open(fns[-1]) as f:\n",
    "        g, i2k, label2i = edges2graph(f.readlines())\n",
    "        for n in g.nodes:\n",
    "            g.nodes[n]['level'] = level\n",
    "\n",
    "        for e in g.edges:\n",
    "            g.edges[e]['level'] = level\n",
    "\n",
    "    for i,fn in enumerate(fns[:-1][::-1]):\n",
    "        level -= 1\n",
    "        with open(fn) as f:\n",
    "            subgraph,_,_ = edges2graph(f.readlines(), i2k, label2i)\n",
    "            for n in subgraph.nodes:\n",
    "                g.nodes[n]['level'] = level\n",
    "            for e in subgraph.edges:\n",
    "                g.edges[e]['level'] = level\n",
    "    return g\n",
    "    \n",
    "    \n",
    "    \n",
    "def read_js(fn_in, center=True, scale=1):\n",
    "    data_in = {}\n",
    "    with open(fn_in) as f0:\n",
    "        for line in f0:\n",
    "            if line.startswith('//'):\n",
    "                continue\n",
    "            var_name, value = line.split(' = ')\n",
    "            value = value.strip()\n",
    "#             value = re.sub(r'(\\d+):', r'\"\\1\":', value)\n",
    "            \n",
    "            try:\n",
    "                value = json.loads(value)\n",
    "            except json.JSONDecodeError as e:\n",
    "                print(e)\n",
    "                print(repr(value[e.colno-5:e.colno+20]))\n",
    "                return e\n",
    "            data_in[var_name] = value\n",
    "\n",
    "    print(data_in.keys())\n",
    "\n",
    "    ## centralize data\n",
    "    if center:\n",
    "        cx = sum(data_in['crd_x'].values()) / len(data_in['crd_x'])\n",
    "        cy = sum(data_in['crd_y'].values()) / len(data_in['crd_y'])\n",
    "        for k in data_in['crd_x']:\n",
    "            data_in['crd_x'][k] -= cx\n",
    "            data_in['crd_y'][k] -= cy\n",
    "    if scale is not None:\n",
    "        for k in data_in['crd_x']:\n",
    "            data_in['crd_x'][k] *= scale\n",
    "            data_in['crd_y'][k] *= scale\n",
    "            \n",
    "    return data_in\n",
    "\n",
    "## topics large\n",
    "# f = 'topics-large'\n",
    "# fn_in = './in/topicslarge-BT.json'\n",
    "\n",
    "\n",
    "\n",
    "# # alphanum_to_org = None\n",
    "# # my_edges = data_in['my_edges']\n",
    "# # label_to_id = data_in['label_to_id']\n",
    "# id_to_label = data_in['id_to_label']\n",
    "# # edge_distance = data_in['edge_distance']\n",
    "# crd_x = data_in['crd_x']\n",
    "# crd_y = data_in['crd_y']"
   ]
  },
  {
   "cell_type": "code",
   "execution_count": 169,
   "metadata": {},
   "outputs": [],
   "source": [
    "\n",
    "def draw(g, pos, edges=True, labels=False, figsize=[8,8], s=2, lw=0.5):\n",
    "    xy = np.array(list([pos[k] for k in g.nodes]))\n",
    "    fig = plt.figure(figsize=figsize)\n",
    "    ax = fig.subplots()\n",
    "    \n",
    "    ## nodes\n",
    "    ax.scatter(xy[:,0], xy[:,1], s=s, zorder=3)\n",
    "    \n",
    "    ## edges\n",
    "    if edges:\n",
    "        lines = [[pos[i], pos[j]] for (i,j) in g.edges]\n",
    "        lc = mc.LineCollection(lines, colors='grey', linewidths=lw)\n",
    "        ax.add_collection(lc)\n",
    "    ax.autoscale()\n",
    "    ax.margins(0.1)\n",
    "    plt.axis('equal')\n",
    "\n",
    "    if labels:\n",
    "        for i in g.nodes:\n",
    "            plt.text(pos[i][0], pos[i][1], g.nodes[i]['label'])\n",
    "    return ax\n",
    "\n",
    "def update_coord(g, data):\n",
    "    crd_x = data['crd_x']\n",
    "    crd_y = data['crd_y']\n",
    "    label_to_id = data.get('label_to_id', None)\n",
    "    org_to_alphanum = data.get('org_to_alphanum', None)\n",
    "    for n in g.nodes:\n",
    "        node = g.nodes[n]\n",
    "        full_label = node['label']\n",
    "        if org_to_alphanum is None:\n",
    "            short_label = full_label\n",
    "        else:\n",
    "            short_label = org_to_alphanum[full_label]\n",
    "        \n",
    "        node_id = str(label_to_id[short_label])\n",
    "        \n",
    "        x,y = crd_x[node_id], crd_y[node_id]\n",
    "        node['pos'] = f'{x},{y}'\n",
    "        node['weight'] = 0\n",
    "    return g\n"
   ]
  },
  {
   "cell_type": "code",
   "execution_count": 199,
   "metadata": {},
   "outputs": [
    {
     "name": "stdout",
     "output_type": "stream",
     "text": [
      "dict_keys(['my_edges', 'label_to_id', 'id_to_label', 'edge_distance', 'nodes_to_levels', 'crd_x', 'crd_y'])\n",
      "(0, {'id': 0, 'label': 'noncommutative geometry', 'level': 7, 'pos': '-8337.810347925479,10527.400579383802', 'weight': 0})\n"
     ]
    }
   ],
   "source": [
    "# f = 'topics-DELG'\n",
    "# fn_in = './in/topics-DELG.json'\n",
    "# graph_dir = '../../zmlt/data/txt/topics_faryad_8level/'\n",
    "# scale = 1\n",
    "\n",
    "# f = 'lastfm-DELG'\n",
    "# fn_in = './in/lastfm-DELG.json'\n",
    "# graph_dir = '../../zmlt/data/txt/lastfm/'\n",
    "# scale = 1\n",
    "\n",
    "# f = 'tol-DELG'\n",
    "# fn_in = './in/tol-DELG.json'\n",
    "# graph_dir = '../../zmlt/data/txt/tol_graphs_8level/'\n",
    "# scale = 1\n",
    "\n",
    "\n",
    "# f = 'topics-CG'\n",
    "# fn_in = './in/topics-CG.json'\n",
    "# graph_dir = '../../zmlt/data/txt/topics_faryad_8level/'\n",
    "# scale = 200\n",
    "\n",
    "# f = 'lastfm-CG'\n",
    "# fn_in = './in/lastfm-CG.json'\n",
    "# graph_dir = '../../zmlt/data/txt/lastfm/'\n",
    "# scale = 200\n",
    "\n",
    "# f = 'tol-CG'\n",
    "# fn_in = './in/tol-CG.json'\n",
    "# graph_dir = '../../zmlt/data/txt/tol_graphs_8level/'\n",
    "# scale = 200\n",
    "\n",
    "\n",
    "\n",
    "# f = 'lastfm-BT'\n",
    "# fn_in = './in/lastfm-BT.json'\n",
    "# graph_dir = '../../zmlt/data/txt/lastfm/'\n",
    "# scale = 1\n",
    "\n",
    "f = 'topicslarge-BT'\n",
    "fn_in = './in/topicslarge-BT.json'\n",
    "graph_dir = '../../zmlt/data/txt/topics_large/'\n",
    "scale = 10\n",
    "\n",
    "\n",
    "g = read_graph(graph_dir)\n",
    "data_in = read_js(fn_in, scale=scale)\n",
    "G = update_coord(g, data_in)\n",
    "for n in G.nodes(data=True):\n",
    "    print(n)\n",
    "    break"
   ]
  },
  {
   "cell_type": "code",
   "execution_count": 200,
   "metadata": {},
   "outputs": [
    {
     "data": {
      "text/plain": [
       "<matplotlib.axes._subplots.AxesSubplot at 0x12312f2b0>"
      ]
     },
     "execution_count": 200,
     "metadata": {},
     "output_type": "execute_result"
    },
    {
     "data": {
      "image/png": "[encoded data removed]",
      "text/plain": [
       "<Figure size 576x576 with 1 Axes>"
      ]
     },
     "metadata": {},
     "output_type": "display_data"
    }
   ],
   "source": [
    "pos = {n:[float(x) for x in G.nodes[n]['pos'].split(',')] for n in G.nodes}\n",
    "draw(G, pos, s=0.4)"
   ]
  },
  {
   "cell_type": "code",
   "execution_count": 112,
   "metadata": {},
   "outputs": [],
   "source": [
    "# import numpy as np\n",
    "# from matplotlib import collections as mc\n",
    "\n",
    "# xy = np.array([(crd_x[k],crd_y[k]) for k in crd_x])\n",
    "# fig = plt.figure(figsize=[12,12])\n",
    "# ax = fig.subplots()\n",
    "# # ax.scatter(xy[:,0], xy[:,1], s=1)\n",
    "\n",
    "# lines = []\n",
    "# linewidths = []\n",
    "# for s,t in my_edges:\n",
    "#     try:\n",
    "#         source = (crd_x[str(label_to_id[s])], crd_y[str(label_to_id[s])])\n",
    "#         target = (crd_x[str(label_to_id[t])], crd_y[str(label_to_id[t])])\n",
    "#     except KeyError:\n",
    "#         source = (crd_x[label_to_id[s]], crd_y[label_to_id[s]])\n",
    "#         target = (crd_x[label_to_id[t]], crd_y[label_to_id[t]])\n",
    "#     lines.append([source, target])\n",
    "#     lw = (18-max(nodes_to_levels[s], nodes_to_levels[t]))/10\n",
    "#     linewidths.append(lw)\n",
    "# lc = mc.LineCollection(lines, linewidths=linewidths)\n",
    "# ax.add_collection(lc)\n",
    "# ax.autoscale()\n",
    "# plt.show()"
   ]
  },
  {
   "cell_type": "markdown",
   "metadata": {},
   "source": [
    "# Run this if need weights"
   ]
  },
  {
   "cell_type": "code",
   "execution_count": null,
   "metadata": {},
   "outputs": [],
   "source": [
    "# gv = nx.Graph(pygraphviz.AGraph(\n",
    "#     '../data/datasets/lastfm/dot/lastfmw_original.dot', strict=False, directed=False\n",
    "# ))\n",
    "\n",
    "# name_to_weight = {n['label'].replace('\\\\n', ' '): int(n['weight']) for i,n in gv.nodes(data=True)}\n",
    "# name_to_weight"
   ]
  },
  {
   "cell_type": "markdown",
   "metadata": {},
   "source": [
    "## Graph"
   ]
  },
  {
   "cell_type": "code",
   "execution_count": 57,
   "metadata": {},
   "outputs": [
    {
     "ename": "NameError",
     "evalue": "name 'id_to_label' is not defined",
     "output_type": "error",
     "traceback": [
      "\u001b[0;31m---------------------------------------------------------------------------\u001b[0m",
      "\u001b[0;31mNameError\u001b[0m                                 Traceback (most recent call last)",
      "\u001b[0;32m<ipython-input-57-ac9d120375e3>\u001b[0m in \u001b[0;36m<module>\u001b[0;34m\u001b[0m\n\u001b[1;32m      2\u001b[0m \u001b[0mnew_nodes\u001b[0m \u001b[0;34m=\u001b[0m \u001b[0;34m[\u001b[0m\u001b[0;34m]\u001b[0m\u001b[0;34m\u001b[0m\u001b[0;34m\u001b[0m\u001b[0m\n\u001b[1;32m      3\u001b[0m \u001b[0;34m\u001b[0m\u001b[0m\n\u001b[0;32m----> 4\u001b[0;31m \u001b[0;32mfor\u001b[0m \u001b[0mn\u001b[0m \u001b[0;32min\u001b[0m \u001b[0mid_to_label\u001b[0m\u001b[0;34m:\u001b[0m\u001b[0;34m\u001b[0m\u001b[0;34m\u001b[0m\u001b[0m\n\u001b[0m\u001b[1;32m      5\u001b[0m     \u001b[0mdata\u001b[0m \u001b[0;34m=\u001b[0m \u001b[0;34m{\u001b[0m\u001b[0;34m}\u001b[0m\u001b[0;34m\u001b[0m\u001b[0;34m\u001b[0m\u001b[0m\n\u001b[1;32m      6\u001b[0m     \u001b[0mdata\u001b[0m\u001b[0;34m[\u001b[0m\u001b[0;34m'id'\u001b[0m\u001b[0;34m]\u001b[0m \u001b[0;34m=\u001b[0m \u001b[0mn\u001b[0m\u001b[0;34m\u001b[0m\u001b[0;34m\u001b[0m\u001b[0m\n",
      "\u001b[0;31mNameError\u001b[0m: name 'id_to_label' is not defined"
     ]
    }
   ],
   "source": [
    "# new_edges = []\n",
    "# new_nodes = []\n",
    " \n",
    "# for n in id_to_label:\n",
    "#     data = {}\n",
    "#     data['id'] = n\n",
    "#     data['pos'] = str(crd_x[str(n)])+','+str(crd_y[str(n)])\n",
    "#     label = id_to_label[n]\n",
    "#     data['level'] = int(nodes_to_levels[label])\n",
    "#     if alphanum_to_org is None:\n",
    "#         data['label'] = label\n",
    "#     else:\n",
    "#         data['label'] = alphanum_to_org[label]\n",
    "    \n",
    "#     try:\n",
    "#         data['weight'] = name_to_weight[label]\n",
    "#     except:\n",
    "# #         print(data['label'])\n",
    "#         data['weight'] = 0\n",
    "#     new_nodes.append((int(n), data))\n",
    "                        \n",
    "    \n",
    "\n",
    "# max_level = 0\n",
    "# for e in my_edges:\n",
    "#     data = {}\n",
    "#     node1 = int(label_to_id[e[0]])\n",
    "#     node2 = int(label_to_id[e[1]])\n",
    "#     level1 = nodes_to_levels[e[0]]\n",
    "#     level2 = nodes_to_levels[e[1]]\n",
    "#     if(level1>max_level):\n",
    "#         max_level = level1\n",
    "#     if(level2>max_level):\n",
    "#         max_level=level2\n",
    "#     data['level'] = max(level1, level2)\n",
    "# #     data['level'] = 1\n",
    "    \n",
    "#     new_e = (node1, node2, data)\n",
    "#     new_edges.append(new_e)\n",
    "\n",
    "\n",
    "# G = nx.Graph()\n",
    "# G.add_nodes_from(new_nodes)\n",
    "# G.add_edges_from(new_edges)\n",
    "\n",
    "# # print(max_level)\n",
    "# # print(new_edges[10])\n",
    "# # print(new_nodes[0])\n",
    "# # print(new_edges[0])\n",
    "# # print(len(new_nodes))  \n",
    "# print(G.nodes[10])"
   ]
  },
  {
   "cell_type": "code",
   "execution_count": null,
   "metadata": {},
   "outputs": [],
   "source": [
    "# xy = np.array([(crd_x[k],crd_y[k]) for k in crd_x])\n",
    "# fig = plt.figure(figsize=[12,12])\n",
    "# ax = fig.subplots()\n",
    "# ax.scatter(xy[:,0], xy[:,1], s=1)\n",
    "\n",
    "# lines = []\n",
    "# linewidths = []\n",
    "# for s,t in G.edges:\n",
    "#     source = (crd_x[str(s)], crd_y[str(s)])\n",
    "#     target = (crd_x[str(t)], crd_y[str(t)])\n",
    "#     lines.append([source, target])\n",
    "#     lw = (18-G.edges[t,s]['level'])/10\n",
    "#     linewidths.append(lw)\n",
    "# lc = mc.LineCollection(lines, linewidths=linewidths)\n",
    "# ax.add_collection(lc)\n",
    "# plt.show()\n",
    "\n",
    "    "
   ]
  },
  {
   "cell_type": "markdown",
   "metadata": {},
   "source": [
    "## generate map"
   ]
  },
  {
   "cell_type": "code",
   "execution_count": 201,
   "metadata": {},
   "outputs": [
    {
     "data": {
      "text/plain": [
       "'topicslarge-BT'"
      ]
     },
     "execution_count": 201,
     "metadata": {},
     "output_type": "execute_result"
    }
   ],
   "source": [
    "f"
   ]
  },
  {
   "cell_type": "code",
   "execution_count": 203,
   "metadata": {},
   "outputs": [
    {
     "name": "stdout",
     "output_type": "stream",
     "text": [
      "mkdir: topicslarge-BT: File exists\n",
      "mkdir: topicslarge-BT/layers: File exists\n"
     ]
    }
   ],
   "source": [
    "!mkdir {f}\n",
    "!mkdir {f}/layers"
   ]
  },
  {
   "cell_type": "code",
   "execution_count": 204,
   "metadata": {},
   "outputs": [
    {
     "data": {
      "application/vnd.jupyter.widget-view+json": {
       "model_id": "08fa43f78db64141903d59f56ee0443d",
       "version_major": 2,
       "version_minor": 0
      },
      "text/plain": [
       "  0%|          | 0/29 [00:00<?, ?it/s]"
      ]
     },
     "metadata": {},
     "output_type": "display_data"
    }
   ],
   "source": [
    "## write sub trees in the hierarchy\n",
    "levels = sorted(set([ G.nodes[i]['level'] for i in G.nodes]))\n",
    "for l in tqdm(levels):\n",
    "    n = [i for i in G.nodes if G.nodes[i]['level'] <= l]\n",
    "    sub = G.subgraph(n)\n",
    "    write_dot(sub, f'{f}/layers/graph-{l}.dot')"
   ]
  },
  {
   "cell_type": "code",
   "execution_count": 205,
   "metadata": {},
   "outputs": [],
   "source": [
    "## read the underlying graph (not only trees)\n",
    "\n",
    "import pygraphviz as pgv\n",
    "if 'topics' in f and 'large' not in f:\n",
    "    fn_graph = '../data/datasets/topics/orginal/Topics_Graph_Connected.dot'\n",
    "    original = nx.Graph(pgv.AGraph(fn_graph))\n",
    "        \n",
    "elif 'lastfm' in f:\n",
    "    fn_graph = '../data/datasets/lastfm/dot/lastfmw_original.dot'\n",
    "    original = nx.Graph(pgv.AGraph(fn_graph))\n",
    "    for n in original.nodes:\n",
    "        original.nodes[n]['label'] = original.nodes[n]['label'].replace('\\\\n', ' ')\n",
    "            \n",
    "elif 'topicslarge' in f:\n",
    "    ## TODO load original graph instead of trees\n",
    "    original = G\n",
    "elif 'tol' in f:\n",
    "    original = G    \n"
   ]
  },
  {
   "cell_type": "code",
   "execution_count": 48,
   "metadata": {},
   "outputs": [],
   "source": []
  },
  {
   "cell_type": "code",
   "execution_count": null,
   "metadata": {},
   "outputs": [],
   "source": [
    "# query = 'inversion'\n",
    "\n",
    "# for s,t in original.edges:\n",
    "#     l1, l2 = original.nodes[s]['label'], original.nodes[t]['label']\n",
    "#     if query in l1 or query in l2:\n",
    "#         print(l1,'----', l2)"
   ]
  },
  {
   "cell_type": "code",
   "execution_count": 206,
   "metadata": {},
   "outputs": [],
   "source": [
    "o2label = {o:original.nodes[o]['label'] for o in original.nodes}\n",
    "label2id = {G.nodes[i]['label']:i for i in G.nodes}\n",
    "\n",
    "# print(set(o2label.values()) - set(label2id.keys()))\n",
    "# print(set(label2id.keys()) - set(o2label.values()))\n",
    "\n",
    "o2id = {o: label2id[o2label[o]] for o in original.nodes if o2label[o] in label2id}\n",
    "# o2id\n",
    "\n",
    "\n",
    "G0 = G.copy()\n",
    "for n0,n1 in original.edges:\n",
    "    if n0 in o2id and n1 in o2id:\n",
    "        n0,n1 = o2id[n0], o2id[n1]\n",
    "        if (n0,n1) not in G.edges:\n",
    "            G0.add_edge(n0, n1)"
   ]
  },
  {
   "cell_type": "code",
   "execution_count": 207,
   "metadata": {},
   "outputs": [
    {
     "name": "stdout",
     "output_type": "stream",
     "text": [
      "topicslarge-BT\n"
     ]
    }
   ],
   "source": [
    "write_dot(G0, \"graph.dot\")\n",
    "write_dot(G, \"tree.dot\")\n",
    "\n",
    "print(f)\n",
    "!./mapgenerator.sh tree.dot\n",
    "!mv out2 out3 map.svg graph.dot tree.dot {f}/"
   ]
  },
  {
   "cell_type": "markdown",
   "metadata": {},
   "source": [
    "## Geojson"
   ]
  },
  {
   "cell_type": "code",
   "execution_count": 208,
   "metadata": {},
   "outputs": [
    {
     "name": "stdout",
     "output_type": "stream",
     "text": [
      "./topicslarge-BT\n",
      "../visualization_system/geojson/topicslarge-BT\n",
      "[warning] ../visualization_system/geojson/topicslarge-BT exists, may replace files there\n"
     ]
    }
   ],
   "source": [
    "dir_in = f'./{f}'\n",
    "dir_out = f'../visualization_system/geojson/{f}'\n",
    "print(dir_in)\n",
    "print(dir_out)\n",
    "if not Path(dir_out).exists():\n",
    "    !mkdir {dir_out}\n",
    "else:\n",
    "    print(f'[warning] {dir_out} exists, may replace files there')\n",
    "    \n"
   ]
  },
  {
   "cell_type": "code",
   "execution_count": 209,
   "metadata": {},
   "outputs": [
    {
     "name": "stdout",
     "output_type": "stream",
     "text": [
      "['./topicslarge-BT/layers/graph-1.dot', './topicslarge-BT/layers/graph-2.dot', './topicslarge-BT/layers/graph-3.dot', './topicslarge-BT/layers/graph-4.dot', './topicslarge-BT/layers/graph-5.dot', './topicslarge-BT/layers/graph-6.dot', './topicslarge-BT/layers/graph-7.dot', './topicslarge-BT/layers/graph-8.dot', './topicslarge-BT/layers/graph-9.dot', './topicslarge-BT/layers/graph-10.dot', './topicslarge-BT/layers/graph-11.dot', './topicslarge-BT/layers/graph-12.dot', './topicslarge-BT/layers/graph-13.dot', './topicslarge-BT/layers/graph-14.dot', './topicslarge-BT/layers/graph-15.dot', './topicslarge-BT/layers/graph-16.dot', './topicslarge-BT/layers/graph-17.dot', './topicslarge-BT/layers/graph-18.dot', './topicslarge-BT/layers/graph-19.dot', './topicslarge-BT/layers/graph-20.dot', './topicslarge-BT/layers/graph-21.dot', './topicslarge-BT/layers/graph-22.dot', './topicslarge-BT/layers/graph-23.dot', './topicslarge-BT/layers/graph-24.dot', './topicslarge-BT/layers/graph-25.dot', './topicslarge-BT/layers/graph-26.dot', './topicslarge-BT/layers/graph-27.dot', './topicslarge-BT/layers/graph-28.dot', './topicslarge-BT/layers/graph-29.dot']\n",
      "graph edges: 34740\n",
      "levels: 29\n",
      "polygons: 504 polylines: 0 nodes: 34741\n",
      "CPU times: user 3.32 s, sys: 1 s, total: 4.32 s\n",
      "Wall time: 3min 13s\n"
     ]
    }
   ],
   "source": [
    "%%time\n",
    "\n",
    "!python ../geojson_generator/svg_to_geojson-mw.py {dir_in} {dir_out}"
   ]
  },
  {
   "cell_type": "markdown",
   "metadata": {},
   "source": [
    "---"
   ]
  },
  {
   "cell_type": "markdown",
   "metadata": {},
   "source": [
    "## Not used"
   ]
  },
  {
   "cell_type": "code",
   "execution_count": null,
   "metadata": {},
   "outputs": [],
   "source": [
    "\n",
    "\n",
    "G_graphml = nx.readwrite.graphml.read_graphml(\"/Users/shiny/Downloads/output_Layer_8.graphml\")\n"
   ]
  },
  {
   "cell_type": "code",
   "execution_count": null,
   "metadata": {},
   "outputs": [],
   "source": [
    "print(len(G_graphml.edges()))"
   ]
  },
  {
   "cell_type": "code",
   "execution_count": null,
   "metadata": {},
   "outputs": [],
   "source": [
    "# options = {\n",
    "#     'node_color': 'black',\n",
    "#     'node_size': 10,\n",
    "#     'width': 3,\n",
    "# }\n",
    "# nx.draw(G_graphml, **options)"
   ]
  },
  {
   "cell_type": "code",
   "execution_count": null,
   "metadata": {},
   "outputs": [],
   "source": [
    "write_dot(G_graphml, \"direct_lastfm_8.dot\")"
   ]
  },
  {
   "cell_type": "code",
   "execution_count": null,
   "metadata": {},
   "outputs": [],
   "source": []
  },
  {
   "cell_type": "code",
   "execution_count": null,
   "metadata": {},
   "outputs": [],
   "source": []
  },
  {
   "cell_type": "markdown",
   "metadata": {},
   "source": [
    "# Get by level"
   ]
  },
  {
   "cell_type": "code",
   "execution_count": null,
   "metadata": {},
   "outputs": [],
   "source": [
    "#Graph_2500.txt\tGraph_4000.txt\tGraph_500.txt\n"
   ]
  },
  {
   "cell_type": "code",
   "execution_count": null,
   "metadata": {},
   "outputs": [],
   "source": [
    "f = open(\"data/datasets/refined/topics_faryad/Graph_500.txt\",'r')\n",
    "\n",
    "lines = f.read().split(\"\\n\")"
   ]
  },
  {
   "cell_type": "code",
   "execution_count": null,
   "metadata": {},
   "outputs": [],
   "source": [
    "nodes = []\n",
    "edges = []\n",
    "\n",
    "for l in lines[:-1]:\n",
    "    v = l.split(\" -- \")\n",
    "    v[0] = v[0].decode('utf-8', 'ignore')\n",
    "    v[1] = v[1].decode('utf-8', 'ignore')\n",
    "    edges.append([v[0],v[1]])\n",
    "    if(v[0] not in nodes):\n",
    "        nodes.append(v[0])\n",
    "    if(v[1] not in nodes):\n",
    "        nodes.append(v[1])"
   ]
  },
  {
   "cell_type": "code",
   "execution_count": null,
   "metadata": {},
   "outputs": [],
   "source": [
    "G = nx.Graph()\n",
    "G.add_nodes_from(nodes)\n",
    "G.add_edges_from(edges)\n",
    "\n",
    "# options = {\n",
    "#     'node_color': 'black',\n",
    "#     'node_size': 10,\n",
    "#     'width': 3,\n",
    "# }\n",
    "# nx.draw(G, **options)"
   ]
  },
  {
   "cell_type": "code",
   "execution_count": null,
   "metadata": {},
   "outputs": [],
   "source": [
    "# nx.readwrite.gml.write_gml(G, 'Direct1.gml')\n",
    "write_dot(G, \"direct_500.dot\")"
   ]
  },
  {
   "cell_type": "code",
   "execution_count": null,
   "metadata": {},
   "outputs": [],
   "source": [
    "\n",
    "Name: \n",
    "Type: Graph\n",
    "Number of nodes: 51\n",
    "Number of edges: 50\n",
    "Average degree:   1.9608\n",
    "\n",
    "removed crossings: 0\n",
    "CR: 0\n",
    "UE: 0.37\n",
    "ST: 91.751\n",
    "NP: 0.821\n",
    "lblbb: 9.69E+04\n",
    "lblarea: 37.56406055\n",
    "BB: (2242.3176734383565, 1623.5170672526447)\n",
    "lblo: 0\n",
    "\n",
    "    \n",
    "    \n",
    "Type: Graph\n",
    "Number of nodes: 201\n",
    "Number of edges: 200\n",
    "Average degree:   1.9900\n",
    "\n",
    "removed crossings: 0\n",
    "CR: 0\n",
    "UE: 0.442\n",
    "ST: 1593.992\n",
    "NP: 0.76\n",
    "lblbb: 8.05E+04\n",
    "lblarea: 155.60089481999992\n",
    "BB: (4415.768665540002, 2837.6732704034766)\n",
    "lblo: 0\n",
    "\n",
    "    \n",
    "Name: \n",
    "Type: Graph\n",
    "Number of nodes: 801\n",
    "Number of edges: 800\n",
    "Average degree:   1.9975\n",
    "\n",
    "removed crossings: 0\n",
    "CR: 0\n",
    "UE: 1.255\n",
    "ST: 71405.377\n",
    "NP: 0.63\n",
    "lblbb: 7.88E+04\n",
    "lblarea: 600.0002425200001\n",
    "BB: (8665.419498448602, 5452.989729410348)\n",
    "lblo: 0\n",
    "    \n",
    "Name: \n",
    "Type: Graph\n",
    "Number of nodes: 1601\n",
    "Number of edges: 1600\n",
    "Average degree:   1.9988\n",
    "\n",
    "removed crossings: 0\n",
    "CR: 0\n",
    "UE: 1.638\n",
    "ST: 334792.295\n",
    "NP: 0.592\n",
    "lblbb: 1.02E+05\n",
    "lblarea: 1206.3703762099988\n",
    "BB: (14567.582911387577, 8432.250711921391)\n",
    "lblo: 0\n",
    "\n",
    "Name: \n",
    "Type: Graph\n",
    "Number of nodes: 2001\n",
    "Number of edges: 2000\n",
    "Average degree:   1.9990\n",
    "\n",
    "removed crossings: 0\n",
    "CR: 0\n",
    "UE: 1.838\n",
    "ST: 649737.963\n",
    "NP: 0.576\n",
    "lblbb: 1.10E+05\n",
    "lblarea: 1523.7907976600004\n",
    "BB: (9766.49319786187, 17150.25697759996)\n",
    "lblo: 0\n",
    "    \n",
    "Name: \n",
    "Type: Graph\n",
    "Number of nodes: 3501\n",
    "Number of edges: 3500\n",
    "Average degree:   1.9994\n",
    "\n",
    "removed crossings: 0\n",
    "CR: 0\n",
    "UE: 2.545\n",
    "ST: 2165529.984\n",
    "NP: 0.546\n",
    "lblbb: 1.36E+05\n",
    "lblarea: 2722.066423040002\n",
    "BB: (16462.618508691055, 22528.635143834686)\n",
    "lblo: 0\n",
    "\n",
    "Name: \n",
    "Type: Graph\n",
    "Number of nodes: 3001\n",
    "Number of edges: 3000\n",
    "Average degree:   1.9993\n",
    "\n",
    "removed crossings: 0\n",
    "CR: 0\n",
    "UE: 1.977\n",
    "ST: 1500728.222\n",
    "NP: 0.547\n",
    "lblbb: 9.96E+04\n",
    "lblarea: 2319.083499429999\n",
    "BB: (17906.197314446596, 12903.30155548481)\n",
    "lblo: 0\n",
    "    \n",
    "Type: Graph\n",
    "Number of nodes: 4001\n",
    "Number of edges: 4000\n",
    "Average degree:   1.9995\n",
    "\n",
    "removed crossings: 0\n",
    "CR: 0\n",
    "UE: 2.362\n",
    "ST: 2822522.585\n",
    "NP: 0.54\n",
    "lblbb: 1.68E+05\n",
    "lblarea: 3125.864228509995\n",
    "BB: (24107.333500323628, 21813.757616844523)\n",
    "lblo: 0\n",
    "    \n",
    "Name: All\n",
    "Type: Graph\n",
    "Number of nodes: 5001\n",
    "Number of edges: 5000\n",
    "Average degree:   1.9996\n",
    "\n",
    "removed crossings: 0\n",
    "CR: 0\n",
    "UE: 1.93\n",
    "ST: 3465256.488\n",
    "NP: 0.52\n",
    "lblbb: 1.26E+05\n",
    "lblarea: 5584.09027056\n",
    "BB: (25389.882737441407, 27638.560192320983)\n",
    "lblo: 0\n",
    "    \n",
    "    \n",
    "    "
   ]
  },
  {
   "cell_type": "markdown",
   "metadata": {},
   "source": [
    "Paper notes: Fix so all properties are same parts of speech\n",
    "\n",
    "Space utilization -> compactness\n",
    "\n",
    "\n"
   ]
  }
 ],
 "metadata": {
  "kernelspec": {
   "display_name": "Python 3",
   "language": "python",
   "name": "python3"
  },
  "language_info": {
   "codemirror_mode": {
    "name": "ipython",
    "version": 3
   },
   "file_extension": ".py",
   "mimetype": "text/x-python",
   "name": "python",
   "nbconvert_exporter": "python",
   "pygments_lexer": "ipython3",
   "version": "3.8.2"
  }
 },
 "nbformat": 4,
 "nbformat_minor": 2
}
